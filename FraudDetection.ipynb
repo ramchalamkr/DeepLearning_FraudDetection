{
 "cells": [
  {
   "cell_type": "markdown",
   "metadata": {},
   "source": [
    "# Problem Description : Classification of Fraudulent Transactions"
   ]
  },
  {
   "cell_type": "code",
   "execution_count": 1,
   "metadata": {},
   "outputs": [
    {
     "name": "stderr",
     "output_type": "stream",
     "text": [
      "/home/ramchalamkr/.local/lib/python2.7/site-packages/h5py/__init__.py:36: FutureWarning: Conversion of the second argument of issubdtype from `float` to `np.floating` is deprecated. In future, it will be treated as `np.float64 == np.dtype(float).type`.\n",
      "  from ._conv import register_converters as _register_converters\n",
      "Using TensorFlow backend.\n"
     ]
    }
   ],
   "source": [
    "from keras.models import Sequential\n",
    "from keras.layers import Dense\n",
    "from keras.layers import LSTM\n",
    "from keras.layers import Dropout\n",
    "from keras.layers import Flatten,Input\n",
    "from keras import backend as K\n",
    "from keras.models import Model, load_model\n",
    "from sklearn.preprocessing import StandardScaler\n",
    "import matplotlib.pyplot as plt\n",
    "from sklearn.model_selection import KFold\n",
    "from scipy.spatial import distance\n",
    "from sklearn.decomposition import PCA\n",
    "from numpy import linalg as LA\n",
    "from keras.objectives import categorical_crossentropy\n",
    "from sklearn.metrics import roc_curve, auc\n",
    "import math\n",
    "from scipy.stats import pearsonr\n",
    "import copy\n",
    "from sklearn.model_selection import train_test_split\n",
    "from sklearn.metrics import mean_squared_error, r2_score\n",
    "import itertools\n",
    "import csv\n",
    "from sklearn import metrics\n",
    "import tensorflow as tf\n",
    "import tensorflow.contrib.layers as tl\n",
    "import numpy as np\n",
    "import pandas as pd \n",
    "from sklearn import linear_model\n",
    "from sklearn.ensemble import RandomForestClassifier\n",
    "import seaborn as sb\n",
    "%matplotlib inline\n"
   ]
  },
  {
   "cell_type": "markdown",
   "metadata": {},
   "source": [
    "# Part 1 : Supervised Learning Approaches"
   ]
  },
  {
   "cell_type": "markdown",
   "metadata": {},
   "source": [
    "# Steps"
   ]
  },
  {
   "cell_type": "markdown",
   "metadata": {},
   "source": [
    "## 1. Checking the Data"
   ]
  },
  {
   "cell_type": "code",
   "execution_count": 2,
   "metadata": {},
   "outputs": [
    {
     "name": "stdout",
     "output_type": "stream",
     "text": [
      "(284807, 31)\n"
     ]
    },
    {
     "data": {
      "text/html": [
       "<div>\n",
       "<style>\n",
       "    .dataframe thead tr:only-child th {\n",
       "        text-align: right;\n",
       "    }\n",
       "\n",
       "    .dataframe thead th {\n",
       "        text-align: left;\n",
       "    }\n",
       "\n",
       "    .dataframe tbody tr th {\n",
       "        vertical-align: top;\n",
       "    }\n",
       "</style>\n",
       "<table border=\"1\" class=\"dataframe\">\n",
       "  <thead>\n",
       "    <tr style=\"text-align: right;\">\n",
       "      <th></th>\n",
       "      <th>Time</th>\n",
       "      <th>V1</th>\n",
       "      <th>V2</th>\n",
       "      <th>V3</th>\n",
       "      <th>V4</th>\n",
       "      <th>V5</th>\n",
       "      <th>V6</th>\n",
       "      <th>V7</th>\n",
       "      <th>V8</th>\n",
       "      <th>V9</th>\n",
       "      <th>...</th>\n",
       "      <th>V21</th>\n",
       "      <th>V22</th>\n",
       "      <th>V23</th>\n",
       "      <th>V24</th>\n",
       "      <th>V25</th>\n",
       "      <th>V26</th>\n",
       "      <th>V27</th>\n",
       "      <th>V28</th>\n",
       "      <th>Amount</th>\n",
       "      <th>Class</th>\n",
       "    </tr>\n",
       "  </thead>\n",
       "  <tbody>\n",
       "    <tr>\n",
       "      <th>0</th>\n",
       "      <td>0.0</td>\n",
       "      <td>-1.359807</td>\n",
       "      <td>-0.072781</td>\n",
       "      <td>2.536347</td>\n",
       "      <td>1.378155</td>\n",
       "      <td>-0.338321</td>\n",
       "      <td>0.462388</td>\n",
       "      <td>0.239599</td>\n",
       "      <td>0.098698</td>\n",
       "      <td>0.363787</td>\n",
       "      <td>...</td>\n",
       "      <td>-0.018307</td>\n",
       "      <td>0.277838</td>\n",
       "      <td>-0.110474</td>\n",
       "      <td>0.066928</td>\n",
       "      <td>0.128539</td>\n",
       "      <td>-0.189115</td>\n",
       "      <td>0.133558</td>\n",
       "      <td>-0.021053</td>\n",
       "      <td>149.62</td>\n",
       "      <td>0</td>\n",
       "    </tr>\n",
       "    <tr>\n",
       "      <th>1</th>\n",
       "      <td>0.0</td>\n",
       "      <td>1.191857</td>\n",
       "      <td>0.266151</td>\n",
       "      <td>0.166480</td>\n",
       "      <td>0.448154</td>\n",
       "      <td>0.060018</td>\n",
       "      <td>-0.082361</td>\n",
       "      <td>-0.078803</td>\n",
       "      <td>0.085102</td>\n",
       "      <td>-0.255425</td>\n",
       "      <td>...</td>\n",
       "      <td>-0.225775</td>\n",
       "      <td>-0.638672</td>\n",
       "      <td>0.101288</td>\n",
       "      <td>-0.339846</td>\n",
       "      <td>0.167170</td>\n",
       "      <td>0.125895</td>\n",
       "      <td>-0.008983</td>\n",
       "      <td>0.014724</td>\n",
       "      <td>2.69</td>\n",
       "      <td>0</td>\n",
       "    </tr>\n",
       "    <tr>\n",
       "      <th>2</th>\n",
       "      <td>1.0</td>\n",
       "      <td>-1.358354</td>\n",
       "      <td>-1.340163</td>\n",
       "      <td>1.773209</td>\n",
       "      <td>0.379780</td>\n",
       "      <td>-0.503198</td>\n",
       "      <td>1.800499</td>\n",
       "      <td>0.791461</td>\n",
       "      <td>0.247676</td>\n",
       "      <td>-1.514654</td>\n",
       "      <td>...</td>\n",
       "      <td>0.247998</td>\n",
       "      <td>0.771679</td>\n",
       "      <td>0.909412</td>\n",
       "      <td>-0.689281</td>\n",
       "      <td>-0.327642</td>\n",
       "      <td>-0.139097</td>\n",
       "      <td>-0.055353</td>\n",
       "      <td>-0.059752</td>\n",
       "      <td>378.66</td>\n",
       "      <td>0</td>\n",
       "    </tr>\n",
       "    <tr>\n",
       "      <th>3</th>\n",
       "      <td>1.0</td>\n",
       "      <td>-0.966272</td>\n",
       "      <td>-0.185226</td>\n",
       "      <td>1.792993</td>\n",
       "      <td>-0.863291</td>\n",
       "      <td>-0.010309</td>\n",
       "      <td>1.247203</td>\n",
       "      <td>0.237609</td>\n",
       "      <td>0.377436</td>\n",
       "      <td>-1.387024</td>\n",
       "      <td>...</td>\n",
       "      <td>-0.108300</td>\n",
       "      <td>0.005274</td>\n",
       "      <td>-0.190321</td>\n",
       "      <td>-1.175575</td>\n",
       "      <td>0.647376</td>\n",
       "      <td>-0.221929</td>\n",
       "      <td>0.062723</td>\n",
       "      <td>0.061458</td>\n",
       "      <td>123.50</td>\n",
       "      <td>0</td>\n",
       "    </tr>\n",
       "    <tr>\n",
       "      <th>4</th>\n",
       "      <td>2.0</td>\n",
       "      <td>-1.158233</td>\n",
       "      <td>0.877737</td>\n",
       "      <td>1.548718</td>\n",
       "      <td>0.403034</td>\n",
       "      <td>-0.407193</td>\n",
       "      <td>0.095921</td>\n",
       "      <td>0.592941</td>\n",
       "      <td>-0.270533</td>\n",
       "      <td>0.817739</td>\n",
       "      <td>...</td>\n",
       "      <td>-0.009431</td>\n",
       "      <td>0.798278</td>\n",
       "      <td>-0.137458</td>\n",
       "      <td>0.141267</td>\n",
       "      <td>-0.206010</td>\n",
       "      <td>0.502292</td>\n",
       "      <td>0.219422</td>\n",
       "      <td>0.215153</td>\n",
       "      <td>69.99</td>\n",
       "      <td>0</td>\n",
       "    </tr>\n",
       "  </tbody>\n",
       "</table>\n",
       "<p>5 rows × 31 columns</p>\n",
       "</div>"
      ],
      "text/plain": [
       "   Time        V1        V2        V3        V4        V5        V6        V7  \\\n",
       "0   0.0 -1.359807 -0.072781  2.536347  1.378155 -0.338321  0.462388  0.239599   \n",
       "1   0.0  1.191857  0.266151  0.166480  0.448154  0.060018 -0.082361 -0.078803   \n",
       "2   1.0 -1.358354 -1.340163  1.773209  0.379780 -0.503198  1.800499  0.791461   \n",
       "3   1.0 -0.966272 -0.185226  1.792993 -0.863291 -0.010309  1.247203  0.237609   \n",
       "4   2.0 -1.158233  0.877737  1.548718  0.403034 -0.407193  0.095921  0.592941   \n",
       "\n",
       "         V8        V9  ...         V21       V22       V23       V24  \\\n",
       "0  0.098698  0.363787  ...   -0.018307  0.277838 -0.110474  0.066928   \n",
       "1  0.085102 -0.255425  ...   -0.225775 -0.638672  0.101288 -0.339846   \n",
       "2  0.247676 -1.514654  ...    0.247998  0.771679  0.909412 -0.689281   \n",
       "3  0.377436 -1.387024  ...   -0.108300  0.005274 -0.190321 -1.175575   \n",
       "4 -0.270533  0.817739  ...   -0.009431  0.798278 -0.137458  0.141267   \n",
       "\n",
       "        V25       V26       V27       V28  Amount  Class  \n",
       "0  0.128539 -0.189115  0.133558 -0.021053  149.62      0  \n",
       "1  0.167170  0.125895 -0.008983  0.014724    2.69      0  \n",
       "2 -0.327642 -0.139097 -0.055353 -0.059752  378.66      0  \n",
       "3  0.647376 -0.221929  0.062723  0.061458  123.50      0  \n",
       "4 -0.206010  0.502292  0.219422  0.215153   69.99      0  \n",
       "\n",
       "[5 rows x 31 columns]"
      ]
     },
     "execution_count": 2,
     "metadata": {},
     "output_type": "execute_result"
    }
   ],
   "source": [
    "X = pd.read_csv('fraud_prep.csv',delimiter=',')\n",
    "print X.shape\n",
    "X.head()"
   ]
  },
  {
   "cell_type": "code",
   "execution_count": 3,
   "metadata": {},
   "outputs": [
    {
     "data": {
      "text/plain": [
       "<seaborn.axisgrid.PairGrid at 0x7fda7509dcd0>"
      ]
     },
     "execution_count": 3,
     "metadata": {},
     "output_type": "execute_result"
    },
    {
     "data": {
      "image/png": "[encoded data removed]",
      "text/plain": [
       "<matplotlib.figure.Figure at 0x7fd9f86beb50>"
      ]
     },
     "metadata": {},
     "output_type": "display_data"
    }
   ],
   "source": [
    "temp = pd.DataFrame({'Amount':X['Amount'],'time':X['Time'], 'Class':X['Class']})\n",
    "sb.pairplot(temp.dropna(), hue='Class')"
   ]
  },
  {
   "cell_type": "markdown",
   "metadata": {},
   "source": [
    "### Supervised Methods"
   ]
  },
  {
   "cell_type": "code",
   "execution_count": 3,
   "metadata": {},
   "outputs": [
    {
     "name": "stdout",
     "output_type": "stream",
     "text": [
      "(284807, 30)\n",
      "(284807,)\n"
     ]
    }
   ],
   "source": [
    "Y = X['Class']\n",
    "del X['Class']\n",
    "print X.shape\n",
    "print Y.shape"
   ]
  },
  {
   "cell_type": "markdown",
   "metadata": {},
   "source": [
    "#### As can be seen, across time, not much distinction in data, but mostly in terms of amount. So can drop time"
   ]
  },
  {
   "cell_type": "code",
   "execution_count": 4,
   "metadata": {
    "scrolled": true
   },
   "outputs": [
    {
     "data": {
      "image/png": "[encoded data removed]",
      "text/plain": [
       "<matplotlib.figure.Figure at 0x7fabfb8dec90>"
      ]
     },
     "metadata": {},
     "output_type": "display_data"
    }
   ],
   "source": [
    "time = pd.DataFrame({'Amount':X['Amount'],'time':X['Time'], 'class':Y})\n",
    "Normaltime = time[(time['class'] == 0)]\n",
    "FraudTran = time[(time['class'] == 1)]\n",
    "plt.scatter(Normaltime['time'], Normaltime['Amount'],label =\"Normal\")\n",
    "plt.scatter(FraudTran['time'],FraudTran['Amount'],label =\"Fraud\")\n",
    "plt.title(\"Time vs Amount\")\n",
    "plt.legend(bbox_to_anchor=(0., 1.02, 1., .102), loc=3,\n",
    "           ncol=2, mode=\"expand\", borderaxespad=0.)\n",
    "plt.xlabel(\"time\")\n",
    "plt.ylabel(\"Amount\")\n",
    "plt.show()"
   ]
  },
  {
   "cell_type": "markdown",
   "metadata": {},
   "source": [
    "## 2. Tidying the Data"
   ]
  },
  {
   "cell_type": "code",
   "execution_count": 5,
   "metadata": {},
   "outputs": [],
   "source": [
    "#Removing mean and scaling to unit variance\n",
    "X['Amount'] = StandardScaler().fit_transform(X['Amount'].values.reshape(-1, 1))\n",
    "#removing the time column\n",
    "del X['Time']"
   ]
  },
  {
   "cell_type": "markdown",
   "metadata": {},
   "source": [
    "### Logistic Regression (Baseline Model)"
   ]
  },
  {
   "cell_type": "code",
   "execution_count": 6,
   "metadata": {},
   "outputs": [
    {
     "name": "stdout",
     "output_type": "stream",
     "text": [
      "Accuracy 0.9992626663389628\n",
      "AUC Value 0.9806636963106952\n",
      "Confusion Matrix\n",
      "[[85295    12]\n",
      " [   51    85]]\n",
      "Precision Recall\n",
      "             precision    recall  f1-score   support\n",
      "\n",
      "          0       1.00      1.00      1.00     85307\n",
      "          1       0.88      0.62      0.73       136\n",
      "\n",
      "avg / total       1.00      1.00      1.00     85443\n",
      "\n"
     ]
    }
   ],
   "source": [
    "X_train,X_test,Y_train,Y_test = train_test_split(X,Y,test_size = 0.3,random_state=42)\n",
    "clf = linear_model.LogisticRegression()\n",
    "clf.fit(X_train,Y_train)\n",
    "Y_pred = clf.predict(X_test)\n",
    "probs = clf.predict_proba(X_test)\n",
    "print \"Accuracy\",metrics.accuracy_score(Y_test, Y_pred)\n",
    "print \"AUC Value\", metrics.roc_auc_score(Y_test, probs[:, 1])\n",
    "print \"Confusion Matrix\"\n",
    "print metrics.confusion_matrix(Y_test, Y_pred)\n",
    "print \"Precision Recall\"\n",
    "print metrics.classification_report(Y_test, Y_pred)"
   ]
  },
  {
   "cell_type": "code",
   "execution_count": 7,
   "metadata": {},
   "outputs": [
    {
     "name": "stdout",
     "output_type": "stream",
     "text": [
      "Accuracy 0.9995669627705019\n",
      "AUC Value 0.9526959807449773\n",
      "Confusion Matrix\n",
      "[[85299     8]\n",
      " [   29   107]]\n",
      "Precision Recall\n",
      "             precision    recall  f1-score   support\n",
      "\n",
      "          0       1.00      1.00      1.00     85307\n",
      "          1       0.93      0.79      0.85       136\n",
      "\n",
      "avg / total       1.00      1.00      1.00     85443\n",
      "\n"
     ]
    }
   ],
   "source": [
    "X_train,X_test,Y_train,Y_test = train_test_split(X,Y,test_size = 0.3,random_state=42)\n",
    "clf = RandomForestClassifier(max_depth=20)\n",
    "clf.fit(X_train,Y_train)\n",
    "Y_pred = clf.predict(X_test)\n",
    "probs = clf.predict_proba(X_test)\n",
    "print \"Accuracy\",metrics.accuracy_score(Y_test, Y_pred)\n",
    "print \"AUC Value\", metrics.roc_auc_score(Y_test, probs[:, 1])\n",
    "print \"Confusion Matrix\"\n",
    "print metrics.confusion_matrix(Y_test, Y_pred)\n",
    "print \"Precision Recall\"\n",
    "print metrics.classification_report(Y_test, Y_pred)"
   ]
  },
  {
   "cell_type": "markdown",
   "metadata": {},
   "source": [
    "### PCA"
   ]
  },
  {
   "cell_type": "code",
   "execution_count": 8,
   "metadata": {
    "scrolled": true
   },
   "outputs": [
    {
     "name": "stdout",
     "output_type": "stream",
     "text": [
      "(284807, 29)\n"
     ]
    },
    {
     "name": "stderr",
     "output_type": "stream",
     "text": [
      "/home/ramchalamkr/.local/lib/python2.7/site-packages/matplotlib/axes/_axes.py:545: UserWarning: No labelled objects found. Use label='...' kwarg on individual plots.\n",
      "  warnings.warn(\"No labelled objects found. \"\n"
     ]
    },
    {
     "data": {
      "image/png": "[encoded data removed]",
      "text/plain": [
       "<matplotlib.figure.Figure at 0x7fac78305510>"
      ]
     },
     "metadata": {},
     "output_type": "display_data"
    }
   ],
   "source": [
    "print X.shape\n",
    "X_train,X_test,Y_train,Y_test = train_test_split(X,Y,test_size = 0.2,random_state=42)\n",
    "\n",
    "Covariance = np.dot(X_train.T,X_train)\n",
    "\n",
    "Lambda, e = LA.eigh(Covariance)\n",
    "Lambda = Lambda.reshape(Lambda.shape[0],1)\n",
    "Lambda = sorted(Lambda,reverse=True)\n",
    "TotalLambda = np.sum(Lambda)\n",
    "LambdaProp = []\n",
    "for i in range(X_train.shape[1]):\n",
    "    temp = np.sum(Lambda[0:i])*1.0/TotalLambda\n",
    "    LambdaProp.append(temp)\n",
    "\n",
    "Dim = np.linspace(0, X_train.shape[1], X_train.shape[1])\n",
    "\n",
    "plt.plot(Dim,LambdaProp)\n",
    "plt.legend(bbox_to_anchor=(0., 1.02, 1., .102), loc=3,\n",
    "           ncol=2, mode=\"expand\", borderaxespad=0.)\n",
    "plt.xlabel('Dimensions')\n",
    "plt.ylabel('Lambda/TotalLambda')\n",
    "plt.show()"
   ]
  },
  {
   "cell_type": "markdown",
   "metadata": {},
   "source": [
    "### This means there is no point in doing PCA as the total variance is represented by mostly all 28~30 features. It could also mean that the data already contains the best features and all are posibly required to get best results."
   ]
  },
  {
   "cell_type": "markdown",
   "metadata": {},
   "source": [
    "## 3. Model Development and Performance"
   ]
  },
  {
   "cell_type": "markdown",
   "metadata": {},
   "source": [
    "### Feed Forwad Neural Networks \n",
    "### (Model Architecture followed an extension of a published paper.https://pdfs.semanticscholar.org/0419/c275f05841d87ab9a4c9767a4f997b61a50e.pdf)"
   ]
  },
  {
   "cell_type": "markdown",
   "metadata": {},
   "source": [
    "### using original data"
   ]
  },
  {
   "cell_type": "code",
   "execution_count": 41,
   "metadata": {
    "scrolled": true
   },
   "outputs": [
    {
     "name": "stdout",
     "output_type": "stream",
     "text": [
      "_________________________________________________________________\n",
      "Layer (type)                 Output Shape              Param #   \n",
      "=================================================================\n",
      "dense_1 (Dense)              (None, 256)               7680      \n",
      "_________________________________________________________________\n",
      "dropout_1 (Dropout)          (None, 256)               0         \n",
      "_________________________________________________________________\n",
      "dense_2 (Dense)              (None, 128)               32896     \n",
      "_________________________________________________________________\n",
      "dropout_2 (Dropout)          (None, 128)               0         \n",
      "_________________________________________________________________\n",
      "dense_3 (Dense)              (None, 64)                8256      \n",
      "_________________________________________________________________\n",
      "dropout_3 (Dropout)          (None, 64)                0         \n",
      "_________________________________________________________________\n",
      "dense_4 (Dense)              (None, 32)                2080      \n",
      "_________________________________________________________________\n",
      "dropout_4 (Dropout)          (None, 32)                0         \n",
      "_________________________________________________________________\n",
      "dense_5 (Dense)              (None, 1)                 33        \n",
      "=================================================================\n",
      "Total params: 50,945\n",
      "Trainable params: 50,945\n",
      "Non-trainable params: 0\n",
      "_________________________________________________________________\n",
      "None\n",
      "Train on 199364 samples, validate on 85443 samples\n",
      "Epoch 1/10\n",
      "10s - loss: 0.0103 - acc: 0.9979 - val_loss: 0.0037 - val_acc: 0.9994\n",
      "Epoch 2/10\n",
      "11s - loss: 0.0041 - acc: 0.9994 - val_loss: 0.0033 - val_acc: 0.9994\n",
      "Epoch 3/10\n",
      "10s - loss: 0.0038 - acc: 0.9994 - val_loss: 0.0030 - val_acc: 0.9994\n",
      "Epoch 4/10\n",
      "10s - loss: 0.0035 - acc: 0.9994 - val_loss: 0.0032 - val_acc: 0.9994\n",
      "Epoch 5/10\n",
      "11s - loss: 0.0032 - acc: 0.9994 - val_loss: 0.0028 - val_acc: 0.9994\n",
      "Epoch 6/10\n",
      "11s - loss: 0.0032 - acc: 0.9993 - val_loss: 0.0028 - val_acc: 0.9994\n",
      "Epoch 7/10\n",
      "11s - loss: 0.0030 - acc: 0.9994 - val_loss: 0.0027 - val_acc: 0.9994\n",
      "Epoch 8/10\n",
      "14s - loss: 0.0028 - acc: 0.9994 - val_loss: 0.0028 - val_acc: 0.9994\n",
      "Epoch 9/10\n",
      "12s - loss: 0.0027 - acc: 0.9994 - val_loss: 0.0028 - val_acc: 0.9994\n",
      "Epoch 10/10\n",
      "12s - loss: 0.0028 - acc: 0.9994 - val_loss: 0.0029 - val_acc: 0.9994\n",
      "0.0\n",
      "[[85307     0]\n",
      " [  128     8]]\n",
      "             precision    recall  f1-score   support\n",
      "\n",
      "          0       1.00      1.00      1.00     85307\n",
      "          1       1.00      0.06      0.11       136\n",
      "\n",
      "avg / total       1.00      1.00      1.00     85443\n",
      "\n"
     ]
    },
    {
     "name": "stderr",
     "output_type": "stream",
     "text": [
      "/home/ramchalamkr/.local/lib/python2.7/site-packages/ipykernel_launcher.py:27: DeprecationWarning: elementwise == comparison failed; this will raise an error in the future.\n"
     ]
    }
   ],
   "source": [
    "Y = np.reshape(Y,[Y.shape[0],1])\n",
    "X_train,X_test,Y_train,Y_test = train_test_split(X,Y,test_size = 0.3,random_state=42)\n",
    "X_train = np.asarray(X_train)\n",
    "X_test = np.asarray(X_test)\n",
    "Y_train = np.asarray(Y_train)\n",
    "Y_test = np.asarray(Y_test)\n",
    "K.clear_session()\n",
    "InputWidth = X_train.shape[1]\n",
    "model = Sequential()\n",
    "model.add(Dense(256, input_shape = (InputWidth,), activation='relu'))\n",
    "model.add(Dropout(0.2))\n",
    "model.add(Dense(128, activation='relu'))\n",
    "model.add(Dropout(0.2))\n",
    "model.add(Dense(64, activation='relu'))\n",
    "model.add(Dropout(0.2))\n",
    "model.add(Dense(32, activation='relu'))\n",
    "model.add(Dropout(0.2))\n",
    "model.add(Dense(1, activation='sigmoid'))\n",
    "print model.summary()\n",
    "# Compile model\n",
    "model.compile(loss='binary_crossentropy', optimizer='adam', metrics=['accuracy'])\n",
    "op = model.fit(X_train, Y_train, validation_data=(X_test, Y_test), epochs=10, batch_size=100, verbose=2).history\n",
    "#output = model.fit(X_train, Y_train, validation_data=(X_test, Y_test), epochs=150, batch_size=16, verbose=2,class_weight=class_weight).history\n",
    "y_pred = model.predict(X_test)\n",
    "y_pred = [int(item) for sublist in y_pred for item in sublist]\n",
    "#print y_pred.shape\n",
    "print \"Accuracy\",metrics.accuracy_score(Y_test, y_pred)\n",
    "#print np.mean(y_pred==Y_test)\n",
    "print metrics.confusion_matrix(Y_test, y_pred)\n",
    "print metrics.classification_report(Y_test, y_pred)\n"
   ]
  },
  {
   "cell_type": "markdown",
   "metadata": {},
   "source": [
    "### DownSampling for imbalanced class "
   ]
  },
  {
   "cell_type": "code",
   "execution_count": 47,
   "metadata": {},
   "outputs": [
    {
     "name": "stdout",
     "output_type": "stream",
     "text": [
      "(1492, 30)\n",
      "(1492,)\n"
     ]
    }
   ],
   "source": [
    "#Downsampling the data to handle imbalance class.\n",
    "X = pd.read_csv('fraud_prep.csv',delimiter=',')\n",
    "fraud = X[X.Class ==1]\n",
    "normal = X[X.Class==0]\n",
    "#fraud.head()\n",
    "frames = [fraud, normal[0:1000]]\n",
    "\n",
    "DownSample = pd.concat(frames)\n",
    "DownSample.head()\n",
    "Y = DownSample['Class']\n",
    "del DownSample['Class']\n",
    "print DownSample.shape\n",
    "print Y.shape\n",
    "del DownSample['Time']\n",
    "#Removing mean and scaling to unit variance\n",
    "DownSample['Amount'] = StandardScaler().fit_transform(DownSample['Amount'].values.reshape(-1, 1))\n"
   ]
  },
  {
   "cell_type": "markdown",
   "metadata": {},
   "source": [
    "#### Only keras"
   ]
  },
  {
   "cell_type": "code",
   "execution_count": 48,
   "metadata": {
    "scrolled": true
   },
   "outputs": [
    {
     "name": "stdout",
     "output_type": "stream",
     "text": [
      "_________________________________________________________________\n",
      "Layer (type)                 Output Shape              Param #   \n",
      "=================================================================\n",
      "dense_1 (Dense)              (None, 256)               7680      \n",
      "_________________________________________________________________\n",
      "dropout_1 (Dropout)          (None, 256)               0         \n",
      "_________________________________________________________________\n",
      "dense_2 (Dense)              (None, 128)               32896     \n",
      "_________________________________________________________________\n",
      "dropout_2 (Dropout)          (None, 128)               0         \n",
      "_________________________________________________________________\n",
      "dense_3 (Dense)              (None, 64)                8256      \n",
      "_________________________________________________________________\n",
      "dropout_3 (Dropout)          (None, 64)                0         \n",
      "_________________________________________________________________\n",
      "dense_4 (Dense)              (None, 32)                2080      \n",
      "_________________________________________________________________\n",
      "dropout_4 (Dropout)          (None, 32)                0         \n",
      "_________________________________________________________________\n",
      "dense_5 (Dense)              (None, 1)                 33        \n",
      "=================================================================\n",
      "Total params: 50,945\n",
      "Trainable params: 50,945\n",
      "Non-trainable params: 0\n",
      "_________________________________________________________________\n",
      "None\n",
      "Train on 1044 samples, validate on 448 samples\n",
      "Epoch 1/50\n",
      "0s - loss: 5.1743 - acc: 0.4042 - val_loss: 0.8446 - val_acc: 0.3281\n",
      "Epoch 2/50\n",
      "0s - loss: 1.4790 - acc: 0.3314 - val_loss: 1.0919 - val_acc: 0.3281\n",
      "Epoch 3/50\n",
      "0s - loss: 1.3967 - acc: 0.3305 - val_loss: 0.9615 - val_acc: 0.3281\n",
      "Epoch 4/50\n",
      "0s - loss: 1.1933 - acc: 0.3343 - val_loss: 0.7728 - val_acc: 0.3281\n",
      "Epoch 5/50\n",
      "0s - loss: 1.0534 - acc: 0.3879 - val_loss: 0.6780 - val_acc: 0.4799\n",
      "Epoch 6/50\n",
      "0s - loss: 0.9248 - acc: 0.5651 - val_loss: 0.6338 - val_acc: 0.7522\n",
      "Epoch 7/50\n",
      "0s - loss: 0.8536 - acc: 0.7605 - val_loss: 0.5559 - val_acc: 0.8638\n",
      "Epoch 8/50\n",
      "0s - loss: 0.7207 - acc: 0.8439 - val_loss: 0.4839 - val_acc: 0.8951\n",
      "Epoch 9/50\n",
      "0s - loss: 0.6813 - acc: 0.9119 - val_loss: 0.4420 - val_acc: 0.8996\n",
      "Epoch 10/50\n",
      "0s - loss: 0.5412 - acc: 0.9167 - val_loss: 0.4118 - val_acc: 0.9062\n",
      "Epoch 11/50\n",
      "0s - loss: 0.5269 - acc: 0.9234 - val_loss: 0.4168 - val_acc: 0.8996\n",
      "Epoch 12/50\n",
      "0s - loss: 0.4526 - acc: 0.9195 - val_loss: 0.3912 - val_acc: 0.8996\n",
      "Epoch 13/50\n",
      "0s - loss: 0.6253 - acc: 0.9291 - val_loss: 0.4197 - val_acc: 0.8906\n",
      "Epoch 14/50\n",
      "0s - loss: 0.4697 - acc: 0.8841 - val_loss: 0.4543 - val_acc: 0.8839\n",
      "Epoch 15/50\n",
      "0s - loss: 0.4478 - acc: 0.9205 - val_loss: 0.3316 - val_acc: 0.9107\n",
      "Epoch 16/50\n",
      "0s - loss: 0.3840 - acc: 0.9195 - val_loss: 0.4413 - val_acc: 0.8772\n",
      "Epoch 17/50\n",
      "0s - loss: 0.3357 - acc: 0.9176 - val_loss: 0.3639 - val_acc: 0.8951\n",
      "Epoch 18/50\n",
      "0s - loss: 0.3070 - acc: 0.9502 - val_loss: 0.3096 - val_acc: 0.9241\n",
      "Epoch 19/50\n",
      "0s - loss: 0.2654 - acc: 0.9550 - val_loss: 0.3343 - val_acc: 0.9241\n",
      "Epoch 20/50\n",
      "0s - loss: 0.3184 - acc: 0.9511 - val_loss: 0.3510 - val_acc: 0.9152\n",
      "Epoch 21/50\n",
      "0s - loss: 0.2361 - acc: 0.9425 - val_loss: 0.3329 - val_acc: 0.9196\n",
      "Epoch 22/50\n",
      "0s - loss: 0.1889 - acc: 0.9569 - val_loss: 0.2884 - val_acc: 0.9353\n",
      "Epoch 23/50\n",
      "0s - loss: 0.3477 - acc: 0.9502 - val_loss: 0.4055 - val_acc: 0.9085\n",
      "Epoch 24/50\n",
      "0s - loss: 0.2495 - acc: 0.9454 - val_loss: 0.3276 - val_acc: 0.9241\n",
      "Epoch 25/50\n",
      "0s - loss: 0.1852 - acc: 0.9626 - val_loss: 0.2700 - val_acc: 0.9397\n",
      "Epoch 26/50\n",
      "0s - loss: 0.1982 - acc: 0.9674 - val_loss: 0.2760 - val_acc: 0.9353\n",
      "Epoch 27/50\n",
      "0s - loss: 0.2091 - acc: 0.9636 - val_loss: 0.3116 - val_acc: 0.9241\n",
      "Epoch 28/50\n",
      "0s - loss: 0.3697 - acc: 0.9626 - val_loss: 0.2978 - val_acc: 0.9308\n",
      "Epoch 29/50\n",
      "0s - loss: 0.2018 - acc: 0.9521 - val_loss: 0.3580 - val_acc: 0.9196\n",
      "Epoch 30/50\n",
      "0s - loss: 0.2253 - acc: 0.9531 - val_loss: 0.3407 - val_acc: 0.9219\n",
      "Epoch 31/50\n",
      "0s - loss: 0.1935 - acc: 0.9579 - val_loss: 0.3021 - val_acc: 0.9286\n",
      "Epoch 32/50\n",
      "0s - loss: 0.2171 - acc: 0.9579 - val_loss: 0.3012 - val_acc: 0.9308\n",
      "Epoch 33/50\n",
      "0s - loss: 0.1752 - acc: 0.9607 - val_loss: 0.3244 - val_acc: 0.9241\n",
      "Epoch 34/50\n",
      "0s - loss: 0.1622 - acc: 0.9607 - val_loss: 0.3094 - val_acc: 0.9308\n",
      "Epoch 35/50\n",
      "0s - loss: 0.1339 - acc: 0.9703 - val_loss: 0.2647 - val_acc: 0.9464\n",
      "Epoch 36/50\n",
      "0s - loss: 0.1047 - acc: 0.9808 - val_loss: 0.2698 - val_acc: 0.9487\n",
      "Epoch 37/50\n",
      "0s - loss: 0.1291 - acc: 0.9703 - val_loss: 0.2763 - val_acc: 0.9487\n",
      "Epoch 38/50\n",
      "0s - loss: 0.0981 - acc: 0.9751 - val_loss: 0.2710 - val_acc: 0.9487\n",
      "Epoch 39/50\n",
      "0s - loss: 0.1477 - acc: 0.9722 - val_loss: 0.2906 - val_acc: 0.9442\n",
      "Epoch 40/50\n",
      "0s - loss: 0.1133 - acc: 0.9674 - val_loss: 0.3074 - val_acc: 0.9375\n",
      "Epoch 41/50\n",
      "0s - loss: 0.1317 - acc: 0.9684 - val_loss: 0.2840 - val_acc: 0.9420\n",
      "Epoch 42/50\n",
      "0s - loss: 0.1229 - acc: 0.9713 - val_loss: 0.2584 - val_acc: 0.9487\n",
      "Epoch 43/50\n",
      "0s - loss: 0.1300 - acc: 0.9741 - val_loss: 0.2892 - val_acc: 0.9397\n",
      "Epoch 44/50\n",
      "0s - loss: 0.1509 - acc: 0.9693 - val_loss: 0.3375 - val_acc: 0.9286\n",
      "Epoch 45/50\n",
      "0s - loss: 0.1307 - acc: 0.9626 - val_loss: 0.2941 - val_acc: 0.9397\n",
      "Epoch 46/50\n",
      "0s - loss: 0.1939 - acc: 0.9665 - val_loss: 0.2985 - val_acc: 0.9286\n",
      "Epoch 47/50\n",
      "0s - loss: 0.1113 - acc: 0.9684 - val_loss: 0.2752 - val_acc: 0.9442\n",
      "Epoch 48/50\n",
      "0s - loss: 0.1086 - acc: 0.9732 - val_loss: 0.3133 - val_acc: 0.9397\n",
      "Epoch 49/50\n",
      "0s - loss: 0.1056 - acc: 0.9665 - val_loss: 0.2998 - val_acc: 0.9464\n",
      "Epoch 50/50\n",
      "0s - loss: 0.1192 - acc: 0.9770 - val_loss: 0.3017 - val_acc: 0.9442\n",
      "accuracy 0.9419642857142857\n",
      "[[299   2]\n",
      " [ 24 123]]\n",
      "             precision    recall  f1-score   support\n",
      "\n",
      "          0       0.93      0.99      0.96       301\n",
      "          1       0.98      0.84      0.90       147\n",
      "\n",
      "avg / total       0.94      0.94      0.94       448\n",
      "\n",
      "predicting on whole dataset\n",
      "(284807, 30)\n",
      "(284807,)\n",
      "accuracy 0.9954916838420405\n",
      "[[283124   1191]\n",
      " [    93    399]]\n",
      "             precision    recall  f1-score   support\n",
      "\n",
      "          0       1.00      1.00      1.00    284315\n",
      "          1       0.25      0.81      0.38       492\n",
      "\n",
      "avg / total       1.00      1.00      1.00    284807\n",
      "\n"
     ]
    }
   ],
   "source": [
    "Y = np.reshape(Y,[Y.shape[0],1])\n",
    "class_weight = {0: 1.,1: 50.}\n",
    "X_train,X_test,Y_train,Y_test = train_test_split(DownSample,Y,test_size = 0.3,random_state=42)\n",
    "X_train = np.asarray(X_train)\n",
    "X_test = np.asarray(X_test)\n",
    "Y_train = np.asarray(Y_train)\n",
    "Y_test = np.asarray(Y_test)\n",
    "K.clear_session()\n",
    "InputWidth = X_train.shape[1]\n",
    "model = Sequential()\n",
    "model.add(Dense(256, input_shape = (InputWidth,), activation='relu'))\n",
    "model.add(Dropout(0.2))\n",
    "model.add(Dense(128, activation='relu'))\n",
    "model.add(Dropout(0.2))\n",
    "model.add(Dense(64, activation='relu'))\n",
    "model.add(Dropout(0.2))\n",
    "model.add(Dense(32, activation='relu'))\n",
    "model.add(Dropout(0.2))\n",
    "model.add(Dense(1, activation='sigmoid'))\n",
    "print model.summary()\n",
    "# Compile model\n",
    "model.compile(loss='binary_crossentropy', optimizer='adam', metrics=['accuracy'])\n",
    "#output = model.fit(X_train, Y_train, validation_data=(X_test, Y_test), epochs=150, batch_size=16, verbose=2).history\n",
    "output = model.fit(X_train, Y_train, validation_data=(X_test, Y_test), epochs=50, batch_size=100, verbose=2,class_weight=class_weight).history\n",
    "y_pred = model.predict(X_test)\n",
    "y_pred = [int(item) for sublist in y_pred for item in sublist]\n",
    "#print y_pred.shape\n",
    "print \"accuracy\", metrics.accuracy_score(Y_test, y_pred)\n",
    "print metrics.confusion_matrix(Y_test, y_pred)\n",
    "print metrics.classification_report(Y_test, y_pred)\n",
    "print \"predicting on whole dataset\"\n",
    "Y = X['Class']\n",
    "del X['Class']\n",
    "print X.shape\n",
    "print Y.shape\n",
    "del X['Time']\n",
    "#Removing mean and scaling to unit variance\n",
    "X['Amount'] = StandardScaler().fit_transform(X['Amount'].values.reshape(-1, 1))\n",
    "X1 = np.asarray(X)\n",
    "y_pred = model.predict(X1)\n",
    "y_pred = [int(item) for sublist in y_pred for item in sublist]\n",
    "#print y_pred.shape\n",
    "print \"accuracy\", metrics.accuracy_score(Y, y_pred)\n",
    "print metrics.confusion_matrix(Y, y_pred)\n",
    "print metrics.classification_report(Y, y_pred)\n"
   ]
  },
  {
   "cell_type": "markdown",
   "metadata": {},
   "source": [
    "### No Downsampling but provide weights for the clases based on the imbalance"
   ]
  },
  {
   "cell_type": "code",
   "execution_count": 51,
   "metadata": {
    "scrolled": true
   },
   "outputs": [
    {
     "name": "stdout",
     "output_type": "stream",
     "text": [
      "_________________________________________________________________\n",
      "Layer (type)                 Output Shape              Param #   \n",
      "=================================================================\n",
      "dense_1 (Dense)              (None, 256)               7680      \n",
      "_________________________________________________________________\n",
      "dropout_1 (Dropout)          (None, 256)               0         \n",
      "_________________________________________________________________\n",
      "dense_2 (Dense)              (None, 128)               32896     \n",
      "_________________________________________________________________\n",
      "dropout_2 (Dropout)          (None, 128)               0         \n",
      "_________________________________________________________________\n",
      "dense_3 (Dense)              (None, 64)                8256      \n",
      "_________________________________________________________________\n",
      "dropout_3 (Dropout)          (None, 64)                0         \n",
      "_________________________________________________________________\n",
      "dense_4 (Dense)              (None, 32)                2080      \n",
      "_________________________________________________________________\n",
      "dropout_4 (Dropout)          (None, 32)                0         \n",
      "_________________________________________________________________\n",
      "dense_5 (Dense)              (None, 1)                 33        \n",
      "=================================================================\n",
      "Total params: 50,945\n",
      "Trainable params: 50,945\n",
      "Non-trainable params: 0\n",
      "_________________________________________________________________\n",
      "None\n",
      "Train on 199364 samples, validate on 85443 samples\n",
      "Epoch 1/10\n",
      "14s - loss: 0.1443 - acc: 0.9956 - val_loss: 0.0736 - val_acc: 0.9707\n",
      "Epoch 2/10\n",
      "12s - loss: 0.0810 - acc: 0.9966 - val_loss: 0.0083 - val_acc: 0.9993\n",
      "Epoch 3/10\n",
      "11s - loss: 0.0762 - acc: 0.9974 - val_loss: 0.0159 - val_acc: 0.9987\n",
      "Epoch 4/10\n",
      "12s - loss: 0.0864 - acc: 0.9976 - val_loss: 0.0294 - val_acc: 0.9993\n",
      "Epoch 5/10\n",
      "11s - loss: 0.0679 - acc: 0.9980 - val_loss: 0.0093 - val_acc: 0.9991\n",
      "Epoch 6/10\n",
      "11s - loss: 0.0589 - acc: 0.9969 - val_loss: 0.0169 - val_acc: 0.9979\n",
      "Epoch 7/10\n",
      "12s - loss: 0.0608 - acc: 0.9969 - val_loss: 0.0122 - val_acc: 0.9968\n",
      "Epoch 8/10\n",
      "12s - loss: 0.0641 - acc: 0.9968 - val_loss: 0.0264 - val_acc: 0.9972\n",
      "Epoch 9/10\n",
      "12s - loss: 0.0584 - acc: 0.9972 - val_loss: 0.0179 - val_acc: 0.9979\n",
      "Epoch 10/10\n",
      "13s - loss: 0.0574 - acc: 0.9984 - val_loss: 0.0174 - val_acc: 0.9980\n",
      "Test accuracy 0.999403110845827\n",
      "[[85281    26]\n",
      " [   25   111]]\n",
      "             precision    recall  f1-score   support\n",
      "\n",
      "          0       1.00      1.00      1.00     85307\n",
      "          1       0.81      0.82      0.81       136\n",
      "\n",
      "avg / total       1.00      1.00      1.00     85443\n",
      "\n",
      "Train accuracy 0.9994031018639273\n",
      "[[198965     43]\n",
      " [    76    280]]\n",
      "             precision    recall  f1-score   support\n",
      "\n",
      "          0       1.00      1.00      1.00    199008\n",
      "          1       0.87      0.79      0.82       356\n",
      "\n",
      "avg / total       1.00      1.00      1.00    199364\n",
      "\n"
     ]
    }
   ],
   "source": [
    "Y = np.reshape(Y,[Y.shape[0],1])\n",
    "class_weight = {0: 1.,1: 50.}\n",
    "X_train,X_test,Y_train,Y_test = train_test_split(X,Y,test_size = 0.3,random_state=42)\n",
    "X_train = np.asarray(X_train)\n",
    "X_test = np.asarray(X_test)\n",
    "Y_train = np.asarray(Y_train)\n",
    "Y_test = np.asarray(Y_test)\n",
    "K.clear_session()\n",
    "InputWidth = X_train.shape[1]\n",
    "model = Sequential()\n",
    "model.add(Dense(256, input_shape = (InputWidth,), activation='relu'))\n",
    "model.add(Dropout(0.2))\n",
    "model.add(Dense(128, activation='relu'))\n",
    "model.add(Dropout(0.2))\n",
    "model.add(Dense(64, activation='relu'))\n",
    "model.add(Dropout(0.2))\n",
    "model.add(Dense(32, activation='relu'))\n",
    "model.add(Dropout(0.2))\n",
    "model.add(Dense(1, activation='sigmoid'))\n",
    "print model.summary()\n",
    "# Compile model\n",
    "model.compile(loss='binary_crossentropy', optimizer='adam', metrics=['accuracy'])\n",
    "output = model.fit(X_train, Y_train, validation_data=(X_test, Y_test), epochs=10, batch_size=96, verbose=2,class_weight=class_weight).history\n",
    "y_pred = model.predict(X_test)\n",
    "y_pred = [int(item) for sublist in y_pred for item in sublist]\n",
    "#print y_pred.shape\n",
    "print \"Test accuracy\", metrics.accuracy_score(Y_test, y_pred)\n",
    "print metrics.confusion_matrix(Y_test, y_pred)\n",
    "print metrics.classification_report(Y_test, y_pred)\n",
    "\n",
    "y_pred = model.predict(X_train)\n",
    "y_pred = [int(item) for sublist in y_pred for item in sublist]\n",
    "#print y_pred.shape\n",
    "print \"Train accuracy\", metrics.accuracy_score(Y_train, y_pred)\n",
    "print metrics.confusion_matrix(Y_train, y_pred)\n",
    "print metrics.classification_report(Y_train, y_pred)"
   ]
  },
  {
   "cell_type": "markdown",
   "metadata": {},
   "source": [
    "#### Tensorflow + keras"
   ]
  },
  {
   "cell_type": "code",
   "execution_count": 52,
   "metadata": {
    "scrolled": true
   },
   "outputs": [
    {
     "name": "stdout",
     "output_type": "stream",
     "text": [
      "(?, 1)\n",
      "(?, 29)\n",
      "Tensor(\"dense_6/Relu:0\", shape=(?, 512), dtype=float32)\n",
      "Tensor(\"dense_7/Relu:0\", shape=(?, 256), dtype=float32)\n",
      "Tensor(\"dense_8/Relu:0\", shape=(?, 128), dtype=float32)\n",
      "Tensor(\"dense_9/Relu:0\", shape=(?, 32), dtype=float32)\n",
      "Tensor(\"dense_10/Relu:0\", shape=(?, 16), dtype=float32)\n",
      "Tensor(\"dense_11/Sigmoid:0\", shape=(?, 1), dtype=float32)\n",
      "epoch 0\n",
      "iteration number0\n",
      "loss 0.0\n",
      "(?, 1)\n",
      "(?, 1)\n",
      "epoch 1\n",
      "iteration number0\n",
      "loss 0.0\n",
      "(?, 1)\n",
      "(?, 1)\n",
      "epoch 2\n",
      "iteration number0\n",
      "loss 0.0\n",
      "(?, 1)\n",
      "(?, 1)\n",
      "epoch 3\n",
      "iteration number0\n",
      "loss 0.0\n",
      "(?, 1)\n",
      "(?, 1)\n",
      "epoch 4\n",
      "iteration number0\n",
      "loss 0.0\n",
      "(?, 1)\n",
      "(?, 1)\n",
      "epoch 5\n",
      "iteration number0\n",
      "loss 0.0\n",
      "(?, 1)\n",
      "(?, 1)\n",
      "epoch 6\n",
      "iteration number0\n",
      "loss 0.0\n",
      "(?, 1)\n",
      "(?, 1)\n",
      "epoch 7\n",
      "iteration number0\n",
      "loss 0.0\n",
      "(?, 1)\n",
      "(?, 1)\n",
      "epoch 8\n",
      "iteration number0\n",
      "loss 0.0\n",
      "(?, 1)\n",
      "(?, 1)\n",
      "epoch 9\n",
      "iteration number0\n",
      "loss 0.0\n",
      "(?, 1)\n",
      "(?, 1)\n",
      "epoch 10\n",
      "iteration number0\n",
      "loss 0.0\n",
      "(?, 1)\n",
      "(?, 1)\n",
      "epoch 11\n",
      "iteration number0\n",
      "loss 0.0\n",
      "(?, 1)\n",
      "(?, 1)\n",
      "epoch 12\n",
      "iteration number0\n",
      "loss 0.0\n",
      "(?, 1)\n",
      "(?, 1)\n",
      "epoch 13\n",
      "iteration number0\n",
      "loss 0.0\n",
      "(?, 1)\n",
      "(?, 1)\n",
      "epoch 14\n",
      "iteration number0\n",
      "loss 0.0\n",
      "(?, 1)\n",
      "(?, 1)\n",
      "epoch 15\n",
      "iteration number0\n",
      "loss 0.0\n",
      "(?, 1)\n",
      "(?, 1)\n",
      "epoch 16\n",
      "iteration number0\n",
      "loss 0.0\n",
      "(?, 1)\n",
      "(?, 1)\n",
      "epoch 17\n",
      "iteration number0\n",
      "loss 0.0\n",
      "(?, 1)\n",
      "(?, 1)\n",
      "epoch 18\n",
      "iteration number0\n",
      "loss 0.0\n",
      "(?, 1)\n",
      "(?, 1)\n",
      "epoch 19\n",
      "iteration number0\n",
      "loss 0.0\n",
      "(?, 1)\n",
      "(?, 1)\n",
      "(93987, 1)\n",
      "0.0\n",
      "Train accuracy\n",
      "[[190477      0]\n",
      " [   343      0]]\n"
     ]
    },
    {
     "name": "stderr",
     "output_type": "stream",
     "text": [
      "/home/ramchalamkr/.local/lib/python2.7/site-packages/ipykernel_launcher.py:64: DeprecationWarning: elementwise == comparison failed; this will raise an error in the future.\n"
     ]
    },
    {
     "name": "stdout",
     "output_type": "stream",
     "text": [
      "             precision    recall  f1-score   support\n",
      "\n",
      "          0       1.00      1.00      1.00    190477\n",
      "          1       0.00      0.00      0.00       343\n",
      "\n",
      "avg / total       1.00      1.00      1.00    190820\n",
      "\n",
      "test accuracy\n",
      "[[93838     0]\n",
      " [  149     0]]\n",
      "             precision    recall  f1-score   support\n",
      "\n",
      "          0       1.00      1.00      1.00     93838\n",
      "          1       0.00      0.00      0.00       149\n",
      "\n",
      "avg / total       1.00      1.00      1.00     93987\n",
      "\n"
     ]
    }
   ],
   "source": [
    "Y = np.reshape(Y,[Y.shape[0],1])\n",
    "X_train,X_test,Y_train,Y_test = train_test_split(X,Y,test_size = 0.33,random_state=42)\n",
    "tf.logging.set_verbosity(tf.logging.INFO)\n",
    "sess = tf.Session()\n",
    "K.set_session(sess)\n",
    "\n",
    "InputWidth = X_train.shape[1]\n",
    "OutputWidth = 1\n",
    "#print Input[0:2]\n",
    "#print Label[0:2]\n",
    "inp = tf.placeholder(tf.float32, shape=(None,InputWidth))\n",
    "out = tf.placeholder(tf.float32, shape=(None,OutputWidth))\n",
    "print(out.get_shape())\n",
    "print(inp.get_shape())\n",
    "predictions=[]\n",
    "predictionsTrain =[]\n",
    "#OutputWidth = len(y_train[0])\n",
    "learning_rate = 0.0001\n",
    "#inplayer = Input(shape=(InputWidth, ))\n",
    "x = Dense(512,activation='relu')(inp)\n",
    "print(x)\n",
    "x = Dense(256,activation='relu')(x)\n",
    "print(x)\n",
    "x = Dense(128,activation='relu')(x)\n",
    "print(x)\n",
    "#x = K.reshape(x,(len(X_train)*InputWidth,5))\n",
    "#print x\n",
    "x = Dense(32,activation='relu')(x)\n",
    "print(x)\n",
    "x = Dense(16,activation='relu')(x)\n",
    "print(x)\n",
    "preds = Dense(OutputWidth, activation='sigmoid')(x)\n",
    "print(preds)\n",
    "\n",
    "loss = tf.reduce_mean(categorical_crossentropy(out, preds))\n",
    "train_step = tf.train.AdamOptimizer(learning_rate=learning_rate).minimize(loss)\n",
    "#acc_value = accuracy(out, preds)\n",
    "with sess.as_default():\n",
    "    sess.run(tf.global_variables_initializer())\n",
    "    for epoch in range(20):\n",
    "        print(\"epoch \" + str(epoch))\n",
    "    #train_step.run(feed_dict={inp:X_train,out:y_train,K.learning_phase(): 1})\n",
    "        for i in range(1000):\n",
    "            if(i%1000==0):\n",
    "                print(\"iteration number\"+str(i))\n",
    "            _, loss_val = sess.run([train_step, loss],\n",
    "                           feed_dict={inp:X_train[i*180:(i+1)*180],out:Y_train[i*180:(i+1)*180]})\n",
    "        print \"loss\", loss_val\n",
    "            #train_step.run(feed_dict={inp:X_train[i*180:(i+1)*180],out:X_train[i*180:(i+1)*180],K.learning_phase(): 1})\n",
    "        #temp=acc_value.eval(feed_dict={inp: X_train,out: y_train})\n",
    "        #print type(temp)\n",
    "        #print temp\n",
    "        #save_path = saver.save(sess, \"model_512_5neighbours_ExtraDense.ckpt\")\n",
    "        print(out.get_shape())\n",
    "        print(preds.get_shape())\n",
    "        #print preds.eval(feed_dict={inp:X_train[0:2],out: y_train[0:2]})\n",
    "        #p = tf.argmax(preds, axis=1)\n",
    "    predictions = preds.eval(feed_dict={inp: X_test})\n",
    "    predictionsTrain = preds.eval(feed_dict={inp: X_train})\n",
    "    predictions = [int(item) for sublist in predictions for item in sublist]\n",
    "    predictionsTrain = [int(item) for sublist in predictionsTrain for item in sublist]\n",
    "    #print predictions.shape\n",
    "    print Y_test.shape\n",
    "    print np.mean(predictions==Y_test)\n",
    "    print \"Train accuracy\"\n",
    "    print metrics.confusion_matrix(Y_train, predictionsTrain)\n",
    "    print metrics.classification_report(Y_train, predictionsTrain)\n",
    "    print \"test accuracy\"\n",
    "    print metrics.confusion_matrix(Y_test, predictions)\n",
    "    print metrics.classification_report(Y_test, predictions)\n",
    "    #print(len(predictions))\n",
    "    #print(len(predictionsTrain))\n",
    "   "
   ]
  },
  {
   "cell_type": "markdown",
   "metadata": {},
   "source": [
    "# Part 2 : Unsupervised Learning approach using Autoencoders"
   ]
  },
  {
   "cell_type": "markdown",
   "metadata": {},
   "source": [
    "# Steps"
   ]
  },
  {
   "cell_type": "markdown",
   "metadata": {},
   "source": [
    "## 1. Checking and Tidying Data"
   ]
  },
  {
   "cell_type": "code",
   "execution_count": 9,
   "metadata": {},
   "outputs": [
    {
     "name": "stdout",
     "output_type": "stream",
     "text": [
      "(284807, 31)\n",
      "(284807,)\n"
     ]
    }
   ],
   "source": [
    "X = pd.read_csv('fraud_prep.csv',delimiter=',')\n",
    "print X.shape\n",
    "print Y.shape\n",
    "del X['Time']\n",
    "#Removing mean and scaling to unit variance\n",
    "X['Amount'] = StandardScaler().fit_transform(X['Amount'].values.reshape(-1, 1))"
   ]
  },
  {
   "cell_type": "code",
   "execution_count": 10,
   "metadata": {},
   "outputs": [
    {
     "name": "stdout",
     "output_type": "stream",
     "text": [
      "0    284315\n",
      "1       492\n",
      "Name: Class, dtype: int64\n"
     ]
    },
    {
     "data": {
      "image/png": "[encoded data removed]",
      "text/plain": [
       "<matplotlib.figure.Figure at 0x7fabfb3eb0d0>"
      ]
     },
     "metadata": {},
     "output_type": "display_data"
    }
   ],
   "source": [
    "count_classes = pd.value_counts(X['Class'], sort = True)\n",
    "print count_classes\n",
    "count_classes.plot(kind = 'bar')\n",
    "plt.title(\"Transaction class distribution\")\n",
    "plt.xticks(range(2), ['Normal','Fraud'])\n",
    "plt.xlabel(\"Transaction Class\")\n",
    "plt.ylabel(\"Frequency\")\n",
    "plt.show()"
   ]
  },
  {
   "cell_type": "code",
   "execution_count": 11,
   "metadata": {},
   "outputs": [],
   "source": [
    "fraud = X[X.Class ==1]\n",
    "normal = X[X.Class ==0]"
   ]
  },
  {
   "cell_type": "code",
   "execution_count": 12,
   "metadata": {},
   "outputs": [
    {
     "data": {
      "text/plain": [
       "count    492.000000\n",
       "mean       0.135382\n",
       "std        1.026242\n",
       "min       -0.353229\n",
       "25%       -0.349231\n",
       "50%       -0.316247\n",
       "75%        0.070128\n",
       "max        8.146182\n",
       "Name: Amount, dtype: float64"
      ]
     },
     "execution_count": 12,
     "metadata": {},
     "output_type": "execute_result"
    }
   ],
   "source": [
    "fraud.Amount.describe()"
   ]
  },
  {
   "cell_type": "code",
   "execution_count": 13,
   "metadata": {},
   "outputs": [
    {
     "data": {
      "text/plain": [
       "count    284315.000000\n",
       "mean         -0.000234\n",
       "std           0.999942\n",
       "min          -0.353229\n",
       "25%          -0.330640\n",
       "50%          -0.265271\n",
       "75%          -0.045177\n",
       "max         102.362243\n",
       "Name: Amount, dtype: float64"
      ]
     },
     "execution_count": 13,
     "metadata": {},
     "output_type": "execute_result"
    }
   ],
   "source": [
    "normal.Amount.describe()"
   ]
  },
  {
   "cell_type": "code",
   "execution_count": 14,
   "metadata": {},
   "outputs": [
    {
     "name": "stdout",
     "output_type": "stream",
     "text": [
      "(199008, 29)\n",
      "(85443, 29)\n",
      "(85443,)\n"
     ]
    }
   ],
   "source": [
    "X_train,X_test = train_test_split(X,test_size = 0.3,random_state=42)\n",
    "X_train = X_train[X_train.Class==0]\n",
    "del X_train['Class']\n",
    "y_test = X_test['Class']\n",
    "del X_test['Class']\n",
    "X_train = np.asarray(X_train)\n",
    "X_test = np.asarray(X_test)\n",
    "print X_train.shape\n",
    "print X_test.shape\n",
    "print y_test.shape\n",
    "#print X_train.head()\n"
   ]
  },
  {
   "cell_type": "markdown",
   "metadata": {},
   "source": [
    "## 2. Model Development"
   ]
  },
  {
   "cell_type": "markdown",
   "metadata": {},
   "source": [
    "### Build Model Pure tensorflow"
   ]
  },
  {
   "cell_type": "code",
   "execution_count": null,
   "metadata": {},
   "outputs": [],
   "source": [
    "inputs = tf.placeholder(tf.float32, shape=(None, X.shape[1]))\n",
    "out = X.shape[1]\n",
    "def buildmodel(inp):\n",
    "    e1 = tl.fully_connected(inp, 32, activation_fn=tf.nn.softplus)\n",
    "    e2 = tl.fully_connected(e1, 16, activation_fn=tf.nn.softplus)\n",
    "    e3 = tl.fully_connected(e2, 8, activation_fn=tf.nn.softplus)\n",
    "    d1 = tl.fully_connected(e3, 8, activation_fn=tf.nn.softplus)\n",
    "    d2 = tl.fully_connected(d1, 16, activation_fn=tf.nn.softplus)\n",
    "    d3 = tl.fully_connected(d2, out, activation_fn=tf.nn.softplus)\n",
    "    return out\n",
    "\n",
    "outputs = buildmodel(inputs)\n",
    "loss = tf.reduce_mean(tf.square(outputs - inputs))\n",
    "train_op = tf.train.AdamOptimizer(learning_rate=0.001).minimize(loss)\n",
    "#init = tf.global_variables_initializer()"
   ]
  },
  {
   "cell_type": "markdown",
   "metadata": {},
   "source": [
    "### Keras + Tensorflow"
   ]
  },
  {
   "cell_type": "code",
   "execution_count": 60,
   "metadata": {
    "scrolled": true
   },
   "outputs": [
    {
     "name": "stdout",
     "output_type": "stream",
     "text": [
      "(?, 29)\n",
      "(?, 29)\n",
      "Tensor(\"dense_18/Relu:0\", shape=(?, 64), dtype=float32)\n",
      "Tensor(\"dense_19/Relu:0\", shape=(?, 32), dtype=float32)\n",
      "Tensor(\"dense_20/Relu:0\", shape=(?, 16), dtype=float32)\n",
      "Tensor(\"dense_21/Relu:0\", shape=(?, 16), dtype=float32)\n",
      "Tensor(\"dense_22/Relu:0\", shape=(?, 32), dtype=float32)\n",
      "Tensor(\"dense_23/Relu:0\", shape=(?, 29), dtype=float32)\n",
      "epoch 0\n",
      "iteration number0\n",
      "loss 0.43287447\n",
      "(?, 29)\n",
      "(?, 29)\n",
      "epoch 1\n",
      "iteration number0\n",
      "loss 0.40982887\n",
      "(?, 29)\n",
      "(?, 29)\n",
      "epoch 2\n",
      "iteration number0\n",
      "loss 0.39938778\n",
      "(?, 29)\n",
      "(?, 29)\n",
      "epoch 3\n",
      "iteration number0\n",
      "loss 0.3843758\n",
      "(?, 29)\n",
      "(?, 29)\n",
      "epoch 4\n",
      "iteration number0\n",
      "loss 0.37673163\n",
      "(?, 29)\n",
      "(?, 29)\n",
      "epoch 5\n",
      "iteration number0\n",
      "loss 0.3734822\n",
      "(?, 29)\n",
      "(?, 29)\n",
      "epoch 6\n",
      "iteration number0\n",
      "loss 0.37235656\n",
      "(?, 29)\n",
      "(?, 29)\n",
      "epoch 7\n",
      "iteration number0\n",
      "loss 0.37125868\n",
      "(?, 29)\n",
      "(?, 29)\n",
      "epoch 8\n",
      "iteration number0\n",
      "loss 0.3702827\n",
      "(?, 29)\n",
      "(?, 29)\n",
      "epoch 9\n",
      "iteration number0\n",
      "loss 0.3692525\n",
      "(?, 29)\n",
      "(?, 29)\n",
      "epoch 10\n",
      "iteration number0\n",
      "loss 0.36820066\n",
      "(?, 29)\n",
      "(?, 29)\n",
      "epoch 11\n",
      "iteration number0\n",
      "loss 0.36791378\n",
      "(?, 29)\n",
      "(?, 29)\n",
      "epoch 12\n",
      "iteration number0\n",
      "loss 0.36705187\n",
      "(?, 29)\n",
      "(?, 29)\n",
      "epoch 13\n",
      "iteration number0\n",
      "loss 0.3665546\n",
      "(?, 29)\n",
      "(?, 29)\n",
      "epoch 14\n",
      "iteration number0\n",
      "loss 0.36628783\n",
      "(?, 29)\n",
      "(?, 29)\n",
      "epoch 15\n",
      "iteration number0\n",
      "loss 0.36620545\n",
      "(?, 29)\n",
      "(?, 29)\n",
      "epoch 16\n",
      "iteration number0\n",
      "loss 0.3660761\n",
      "(?, 29)\n",
      "(?, 29)\n",
      "epoch 17\n",
      "iteration number0\n",
      "loss 0.36574745\n",
      "(?, 29)\n",
      "(?, 29)\n",
      "epoch 18\n",
      "iteration number0\n",
      "loss 0.3655525\n",
      "(?, 29)\n",
      "(?, 29)\n",
      "epoch 19\n",
      "iteration number0\n",
      "loss 0.36588037\n",
      "(?, 29)\n",
      "(?, 29)\n",
      "(85443, 29)\n",
      "test mse 0.6086097037513645\n",
      "train mse 0.580954868454774\n",
      "199008\n",
      "0\n"
     ]
    }
   ],
   "source": [
    "tf.logging.set_verbosity(tf.logging.INFO)\n",
    "sess = tf.Session()\n",
    "K.set_session(sess)\n",
    "\n",
    "InputWidth = X_train.shape[1]\n",
    "#print Input[0:2]\n",
    "#print Label[0:2]\n",
    "inp = tf.placeholder(tf.float32, shape=(None,InputWidth))\n",
    "out = tf.placeholder(tf.float32, shape=(None,InputWidth))\n",
    "print(out.get_shape())\n",
    "print(inp.get_shape())\n",
    "predictions=[]\n",
    "predictionsTrain =[]\n",
    "#OutputWidth = len(y_train[0])\n",
    "learning_rate = 0.001\n",
    "#inplayer = Input(shape=(InputWidth, ))\n",
    "x = Dense(64,activation='relu')(inp)\n",
    "print(x)\n",
    "x = Dense(32,activation='relu')(x)\n",
    "print(x)\n",
    "x = Dense(16,activation='relu')(x)\n",
    "print(x)\n",
    "#x = K.reshape(x,(len(X_train)*InputWidth,5))\n",
    "#print x\n",
    "x = Dense(16,activation='relu')(x)\n",
    "print(x)\n",
    "x = Dense(32,activation='relu')(x)\n",
    "print(x)\n",
    "x = Dense(64,activation='relu')(x)\n",
    "print(x)\n",
    "preds = Dense(InputWidth, activation='relu')(x)\n",
    "print(preds)\n",
    "\n",
    "loss = tf.reduce_mean(tf.square(preds - inp))\n",
    "train_step = tf.train.AdamOptimizer(learning_rate=learning_rate).minimize(loss)\n",
    "#acc_value = accuracy(out, preds)\n",
    "with sess.as_default():\n",
    "    sess.run(tf.global_variables_initializer())\n",
    "    for epoch in range(20):\n",
    "        print(\"epoch \" + str(epoch))\n",
    "    #train_step.run(feed_dict={inp:X_train,out:y_train,K.learning_phase(): 1})\n",
    "        for i in range(1000):\n",
    "            if(i%1000==0):\n",
    "                print(\"iteration number\"+str(i))\n",
    "            _, loss_val = sess.run([train_step, loss],\n",
    "                           feed_dict={inp:X_train[i*180:(i+1)*180],out:X_train[i*180:(i+1)*180]})\n",
    "        print \"loss\", loss_val\n",
    "            #train_step.run(feed_dict={inp:X_train[i*180:(i+1)*180],out:X_train[i*180:(i+1)*180],K.learning_phase(): 1})\n",
    "        #temp=acc_value.eval(feed_dict={inp: X_train,out: y_train})\n",
    "        #print type(temp)\n",
    "        #print temp\n",
    "        #save_path = saver.save(sess, \"model_512_5neighbours_ExtraDense.ckpt\")\n",
    "        print(out.get_shape())\n",
    "        print(preds.get_shape())\n",
    "        #print preds.eval(feed_dict={inp:X_train[0:2],out: y_train[0:2]})\n",
    "        #p = tf.argmax(preds, axis=1)\n",
    "    predictions = preds.eval(feed_dict={inp: X_test})\n",
    "    print predictions.shape\n",
    "    mse = np.mean(np.power(X_test - predictions, 2))\n",
    "    print \"test mse\",mse\n",
    "    predictions = preds.eval(feed_dict={inp: X_train})\n",
    "    mse = np.mean(np.power(X_train - predictions, 2))\n",
    "    print \"train mse\",mse\n",
    "    print(len(predictions))\n",
    "    print(len(predictionsTrain))\n",
    "   "
   ]
  },
  {
   "cell_type": "markdown",
   "metadata": {},
   "source": [
    "### Pure Keras"
   ]
  },
  {
   "cell_type": "code",
   "execution_count": 18,
   "metadata": {
    "scrolled": true
   },
   "outputs": [
    {
     "name": "stdout",
     "output_type": "stream",
     "text": [
      "_________________________________________________________________\n",
      "Layer (type)                 Output Shape              Param #   \n",
      "=================================================================\n",
      "dense_1 (Dense)              (None, 64)                1920      \n",
      "_________________________________________________________________\n",
      "dense_2 (Dense)              (None, 32)                2080      \n",
      "_________________________________________________________________\n",
      "dense_3 (Dense)              (None, 16)                528       \n",
      "_________________________________________________________________\n",
      "dense_4 (Dense)              (None, 16)                272       \n",
      "_________________________________________________________________\n",
      "dense_5 (Dense)              (None, 32)                544       \n",
      "_________________________________________________________________\n",
      "dense_6 (Dense)              (None, 64)                2112      \n",
      "_________________________________________________________________\n",
      "dense_7 (Dense)              (None, 29)                1885      \n",
      "=================================================================\n",
      "Total params: 9,341\n",
      "Trainable params: 9,341\n",
      "Non-trainable params: 0\n",
      "_________________________________________________________________\n",
      "None\n",
      "Train on 199008 samples, validate on 85443 samples\n",
      "Epoch 1/30\n",
      "15s - loss: 0.7509 - acc: 0.5938 - val_loss: 0.7247 - val_acc: 0.6882\n",
      "Epoch 2/30\n",
      "15s - loss: 0.6885 - acc: 0.7027 - val_loss: 0.7011 - val_acc: 0.7321\n",
      "Epoch 3/30\n",
      "15s - loss: 0.6703 - acc: 0.7366 - val_loss: 0.6898 - val_acc: 0.7598\n",
      "Epoch 4/30\n",
      "14s - loss: 0.6677 - acc: 0.7459 - val_loss: 0.6891 - val_acc: 0.7528\n",
      "Epoch 5/30\n",
      "16s - loss: 0.6690 - acc: 0.7495 - val_loss: 0.6867 - val_acc: 0.7704\n",
      "Epoch 6/30\n",
      "14s - loss: 0.6623 - acc: 0.7610 - val_loss: 0.7226 - val_acc: 0.6639\n",
      "Epoch 7/30\n",
      "14s - loss: 0.6566 - acc: 0.7724 - val_loss: 0.6764 - val_acc: 0.7902\n",
      "Epoch 8/30\n",
      "16s - loss: 0.6523 - acc: 0.7809 - val_loss: 0.6747 - val_acc: 0.7952\n",
      "Epoch 9/30\n",
      "21s - loss: 0.6503 - acc: 0.7853 - val_loss: 0.7004 - val_acc: 0.6985\n",
      "Epoch 10/30\n",
      "17s - loss: 0.6572 - acc: 0.7794 - val_loss: 0.6733 - val_acc: 0.7936\n",
      "Epoch 11/30\n",
      "17s - loss: 0.6504 - acc: 0.7884 - val_loss: 0.6780 - val_acc: 0.7962\n",
      "Epoch 12/30\n",
      "15s - loss: 0.6521 - acc: 0.7942 - val_loss: 0.6778 - val_acc: 0.7856\n",
      "Epoch 13/30\n",
      "14s - loss: 0.6491 - acc: 0.7952 - val_loss: 0.6724 - val_acc: 0.8082\n",
      "Epoch 14/30\n",
      "14s - loss: 0.6634 - acc: 0.7740 - val_loss: 0.6843 - val_acc: 0.7871\n",
      "Epoch 15/30\n",
      "14s - loss: 0.6582 - acc: 0.7831 - val_loss: 0.6734 - val_acc: 0.7961\n",
      "Epoch 16/30\n",
      "14s - loss: 0.6478 - acc: 0.7954 - val_loss: 0.6731 - val_acc: 0.7985\n",
      "Epoch 17/30\n",
      "13s - loss: 0.6474 - acc: 0.7981 - val_loss: 0.6719 - val_acc: 0.8099\n",
      "Epoch 18/30\n",
      "14s - loss: 0.6491 - acc: 0.7929 - val_loss: 0.6719 - val_acc: 0.8069\n",
      "Epoch 19/30\n",
      "15s - loss: 0.6477 - acc: 0.7968 - val_loss: 0.6722 - val_acc: 0.8042\n",
      "Epoch 20/30\n",
      "16s - loss: 0.6474 - acc: 0.7983 - val_loss: 0.6819 - val_acc: 0.7470\n",
      "Epoch 21/30\n",
      "13s - loss: 0.6492 - acc: 0.7943 - val_loss: 0.6717 - val_acc: 0.8021\n",
      "Epoch 22/30\n",
      "15s - loss: 0.6469 - acc: 0.8002 - val_loss: 0.6711 - val_acc: 0.8104\n",
      "Epoch 23/30\n",
      "14s - loss: 0.6470 - acc: 0.7989 - val_loss: 0.6742 - val_acc: 0.7966\n",
      "Epoch 24/30\n",
      "13s - loss: 0.6477 - acc: 0.7969 - val_loss: 0.6732 - val_acc: 0.7957\n",
      "Epoch 25/30\n",
      "14s - loss: 0.6471 - acc: 0.8002 - val_loss: 0.6716 - val_acc: 0.8015\n",
      "Epoch 26/30\n",
      "13s - loss: 0.6474 - acc: 0.7984 - val_loss: 0.6712 - val_acc: 0.8128\n",
      "Epoch 27/30\n",
      "14s - loss: 0.6481 - acc: 0.7972 - val_loss: 0.6712 - val_acc: 0.8086\n",
      "Epoch 28/30\n",
      "13s - loss: 0.6471 - acc: 0.7993 - val_loss: 0.6717 - val_acc: 0.8030\n",
      "Epoch 29/30\n",
      "13s - loss: 0.6467 - acc: 0.8009 - val_loss: 0.6713 - val_acc: 0.8095\n",
      "Epoch 30/30\n",
      "13s - loss: 0.6470 - acc: 0.7993 - val_loss: 0.6712 - val_acc: 0.8034\n"
     ]
    }
   ],
   "source": [
    "InputWidth = X_train.shape[1]\n",
    "K.clear_session()\n",
    "model = Sequential()\n",
    "model.add(Dense(64, input_shape = (InputWidth,), activation='relu'))\n",
    "model.add(Dense(32, activation='relu'))\n",
    "model.add(Dense(16, activation='relu'))\n",
    "model.add(Dense(16, activation='relu'))\n",
    "model.add(Dense(32, activation='relu'))\n",
    "model.add(Dense(64, activation='relu'))\n",
    "model.add(Dense(InputWidth, activation='relu'))\n",
    "print model.summary()\n",
    "# Compile model\n",
    "model.compile(loss='mean_squared_error', optimizer='adam', metrics=['accuracy'])\n",
    "op = model.fit(X_train, X_train, validation_data=(X_test, X_test), epochs=30, batch_size=64, verbose=2).history\n"
   ]
  },
  {
   "cell_type": "markdown",
   "metadata": {},
   "source": [
    "## 3. Model Performance"
   ]
  },
  {
   "cell_type": "code",
   "execution_count": 19,
   "metadata": {},
   "outputs": [
    {
     "data": {
      "image/png": "[encoded data removed]",
      "text/plain": [
       "<matplotlib.figure.Figure at 0x7fabf895af90>"
      ]
     },
     "metadata": {},
     "output_type": "display_data"
    }
   ],
   "source": [
    "plt.plot(op['loss'],label ='train')\n",
    "plt.plot(op['val_loss'],label ='test')\n",
    "plt.legend(bbox_to_anchor=(0., 1.02, 1., .102), loc=3,\n",
    "           ncol=2, mode=\"expand\", borderaxespad=0.)\n",
    "plt.title('Loss')\n",
    "plt.ylabel('loss')\n",
    "plt.xlabel('epoch')\n",
    "plt.show()"
   ]
  },
  {
   "cell_type": "code",
   "execution_count": 20,
   "metadata": {},
   "outputs": [
    {
     "name": "stdout",
     "output_type": "stream",
     "text": [
      "74.21776969533447\n"
     ]
    }
   ],
   "source": [
    "y_pred = model.predict(X_test)\n",
    "mse = np.mean(np.power(X_test - y_pred, 2), axis=1)\n",
    "print mse[0]"
   ]
  },
  {
   "cell_type": "code",
   "execution_count": 21,
   "metadata": {},
   "outputs": [],
   "source": [
    "reconstLoss = pd.DataFrame({'ActualClass':y_test, 'mse':mse})\n",
    "NormalTran = reconstLoss[(reconstLoss['ActualClass'] == 0) & (reconstLoss['mse']<5)]\n",
    "FraudTran = reconstLoss[(reconstLoss['ActualClass'] == 1)]"
   ]
  },
  {
   "cell_type": "code",
   "execution_count": 22,
   "metadata": {},
   "outputs": [
    {
     "data": {
      "image/png": "[encoded data removed]",
      "text/plain": [
       "<matplotlib.figure.Figure at 0x7fabfb652c10>"
      ]
     },
     "metadata": {},
     "output_type": "display_data"
    }
   ],
   "source": [
    "plt.hist(NormalTran['mse'],bins=10)\n",
    "plt.title(\"reconstruction loss for normal transaction\")\n",
    "plt.xlabel(\"mse\")\n",
    "plt.ylabel(\"Frequency\")\n",
    "plt.show()"
   ]
  },
  {
   "cell_type": "code",
   "execution_count": 23,
   "metadata": {
    "scrolled": true
   },
   "outputs": [
    {
     "data": {
      "image/png": "[encoded data removed]",
      "text/plain": [
       "<matplotlib.figure.Figure at 0x7fabfb6ef810>"
      ]
     },
     "metadata": {},
     "output_type": "display_data"
    }
   ],
   "source": [
    "plt.hist(FraudTran['mse'],bins=10)\n",
    "plt.title(\"reconstruction loss for fraud transaction\")\n",
    "plt.xlabel(\"mse\")\n",
    "plt.ylabel(\"Frequency\")\n",
    "plt.show()"
   ]
  },
  {
   "cell_type": "code",
   "execution_count": 24,
   "metadata": {},
   "outputs": [],
   "source": [
    "def TN_TP(ytrue,ypred,l,tpe):\n",
    "    count = 0\n",
    "    for i in range(l):\n",
    "        if(ytrue[i] == tpe and ypred[i] == tpe):\n",
    "            count+=1\n",
    "    return count\n",
    "\n",
    "def FN_FP(ytrue,ypred,l,tpe):\n",
    "    count = 0\n",
    "    for i in range(l):\n",
    "        if(ytrue[i] == tpe and ypred[i] != tpe):\n",
    "            count+=1\n",
    "    return count\n",
    "\n",
    "def calculate_TPR_FPR(ytrue,ypred,P):\n",
    "    TP = TN_TP(ytrue,ypred,len(P),1)\n",
    "    TN = TN_TP(ytrue,ypred,len(P),0)\n",
    "    FP = FN_FP(ytrue,ypred,len(P),0)\n",
    "    FN = FN_FP(ytrue,ypred,len(P),1)\n",
    "\n",
    "    TPR = float(TP)/(TP+FN)\n",
    "    FPR = float(FP)/(FP+TN)\n",
    "\n",
    "    return TPR,FPR\n",
    "def plot_roc(TPRFinal,FPRFinal):\n",
    "    roc = auc(FPRFinal,TPRFinal)\n",
    "    plt.figure()\n",
    "    lw = 2\n",
    "    plt.plot(FPRFinal, TPRFinal, color='darkorange',lw=lw,label='ROC curve (area = %0.4f)' % roc,marker ='o')\n",
    "    plt.plot([0, 1], [0, 1], color='navy', lw=lw, linestyle='--')\n",
    "    plt.xlim([-0.1, 1.1])\n",
    "    plt.ylim([-0.1, 1.1])\n",
    "    plt.xlabel('False Positive Rate')\n",
    "    plt.ylabel('True Positive Rate')\n",
    "    plt.title('Receiver operating characteristic example')\n",
    "    plt.legend(loc=\"lower right\")\n",
    "    plt.show()"
   ]
  },
  {
   "cell_type": "code",
   "execution_count": 25,
   "metadata": {},
   "outputs": [
    {
     "data": {
      "image/png": "[encoded data removed]",
      "text/plain": [
       "<matplotlib.figure.Figure at 0x7fabfb68c750>"
      ]
     },
     "metadata": {},
     "output_type": "display_data"
    }
   ],
   "source": [
    "TPRFinal = []\n",
    "FPRFinal = []\n",
    "Treshold = [0.5,1,1.5,2,2.5,3,3.5,4]\n",
    "for i in Treshold:\n",
    "    y_pred = [1 if x>i else 0 for x in reconstLoss['mse']]\n",
    "    TPR,FPR = calculate_TPR_FPR(reconstLoss['ActualClass'].values,y_pred,y_pred)\n",
    "    TPRFinal.append(TPR)\n",
    "    FPRFinal.append(FPR)\n",
    "\n",
    "#print TPRFinal\n",
    "#print FPRFinal\n",
    "\n",
    "plot_roc(TPRFinal,FPRFinal)"
   ]
  },
  {
   "cell_type": "code",
   "execution_count": 26,
   "metadata": {
    "scrolled": true
   },
   "outputs": [
    {
     "name": "stdout",
     "output_type": "stream",
     "text": [
      "[[59628 25679]\n",
      " [    6   130]]\n",
      "             precision    recall  f1-score   support\n",
      "\n",
      "          0       1.00      0.70      0.82     85307\n",
      "          1       0.01      0.96      0.01       136\n",
      "\n",
      "avg / total       1.00      0.70      0.82     85443\n",
      "\n",
      "[[78603  6704]\n",
      " [   14   122]]\n",
      "             precision    recall  f1-score   support\n",
      "\n",
      "          0       1.00      0.92      0.96     85307\n",
      "          1       0.02      0.90      0.04       136\n",
      "\n",
      "avg / total       1.00      0.92      0.96     85443\n",
      "\n",
      "[[81548  3759]\n",
      " [   18   118]]\n",
      "             precision    recall  f1-score   support\n",
      "\n",
      "          0       1.00      0.96      0.98     85307\n",
      "          1       0.03      0.87      0.06       136\n",
      "\n",
      "avg / total       1.00      0.96      0.98     85443\n",
      "\n",
      "[[82585  2722]\n",
      " [   22   114]]\n",
      "             precision    recall  f1-score   support\n",
      "\n",
      "          0       1.00      0.97      0.98     85307\n",
      "          1       0.04      0.84      0.08       136\n",
      "\n",
      "avg / total       1.00      0.97      0.98     85443\n",
      "\n",
      "[[83197  2110]\n",
      " [   25   111]]\n",
      "             precision    recall  f1-score   support\n",
      "\n",
      "          0       1.00      0.98      0.99     85307\n",
      "          1       0.05      0.82      0.09       136\n",
      "\n",
      "avg / total       1.00      0.98      0.99     85443\n",
      "\n",
      "[[83555  1752]\n",
      " [   28   108]]\n",
      "             precision    recall  f1-score   support\n",
      "\n",
      "          0       1.00      0.98      0.99     85307\n",
      "          1       0.06      0.79      0.11       136\n",
      "\n",
      "avg / total       1.00      0.98      0.99     85443\n",
      "\n",
      "[[83838  1469]\n",
      " [   33   103]]\n",
      "             precision    recall  f1-score   support\n",
      "\n",
      "          0       1.00      0.98      0.99     85307\n",
      "          1       0.07      0.76      0.12       136\n",
      "\n",
      "avg / total       1.00      0.98      0.99     85443\n",
      "\n",
      "[[84062  1245]\n",
      " [   39    97]]\n",
      "             precision    recall  f1-score   support\n",
      "\n",
      "          0       1.00      0.99      0.99     85307\n",
      "          1       0.07      0.71      0.13       136\n",
      "\n",
      "avg / total       1.00      0.98      0.99     85443\n",
      "\n",
      "[[84231  1076]\n",
      " [   43    93]]\n",
      "             precision    recall  f1-score   support\n",
      "\n",
      "          0       1.00      0.99      0.99     85307\n",
      "          1       0.08      0.68      0.14       136\n",
      "\n",
      "avg / total       1.00      0.99      0.99     85443\n",
      "\n",
      "[[84351   956]\n",
      " [   44    92]]\n",
      "             precision    recall  f1-score   support\n",
      "\n",
      "          0       1.00      0.99      0.99     85307\n",
      "          1       0.09      0.68      0.16       136\n",
      "\n",
      "avg / total       1.00      0.99      0.99     85443\n",
      "\n",
      "[[84454   853]\n",
      " [   46    90]]\n",
      "             precision    recall  f1-score   support\n",
      "\n",
      "          0       1.00      0.99      0.99     85307\n",
      "          1       0.10      0.66      0.17       136\n",
      "\n",
      "avg / total       1.00      0.99      0.99     85443\n",
      "\n"
     ]
    }
   ],
   "source": [
    "Treshold = [0.5,1,1.5,2,2.5,3,3.5,4,4.5,5,5.5]\n",
    "for i in Treshold:\n",
    "    y_pred = [1 if x>i else 0 for x in reconstLoss['mse']]\n",
    "    print metrics.confusion_matrix(reconstLoss['ActualClass'], y_pred)\n",
    "    print metrics.classification_report(reconstLoss['ActualClass'], y_pred)\n"
   ]
  }
 ],
 "metadata": {
  "kernelspec": {
   "display_name": "Python 2",
   "language": "python",
   "name": "python2"
  },
  "language_info": {
   "codemirror_mode": {
    "name": "ipython",
    "version": 2
   },
   "file_extension": ".py",
   "mimetype": "text/x-python",
   "name": "python",
   "nbconvert_exporter": "python",
   "pygments_lexer": "ipython2",
   "version": "2.7.14"
  }
 },
 "nbformat": 4,
 "nbformat_minor": 2
}
